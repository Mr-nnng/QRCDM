{
 "cells": [
  {
   "cell_type": "code",
   "execution_count": 66,
   "metadata": {},
   "outputs": [],
   "source": [
    "import numpy as np\n",
    "import torch\n",
    "from Test_Model import test_model\n",
    "from Initial_data import DataSet\n",
    "from torch.utils.data import TensorDataset, DataLoader"
   ]
  },
  {
   "cell_type": "code",
   "execution_count": 67,
   "metadata": {},
   "outputs": [
    {
     "name": "stdout",
     "output_type": "stream",
     "text": [
      "数据集： Math1\n"
     ]
    }
   ],
   "source": [
    "basedir = 'D:/python_practice/认知诊断/有失误率和猜测率/'\n",
    "dataSet_list = ('FrcSub', 'Math1', 'Math2', 'ASSIST_0910', 'ASSIST_2017')\n",
    "dataSet_name = dataSet_list[1]\n",
    "batch_size = 32\n",
    "\n",
    "dataSet = DataSet(basedir, dataSet_name)\n",
    "train_data = dataSet.train_data\n",
    "valid_data = dataSet.valid_data\n",
    "test_data = dataSet.test_data\n",
    "obj_prob_index = dataSet.obj_prob_index\n",
    "sub_prob_index = dataSet.sub_prob_index\n",
    "\n",
    "total_stu_list = set(train_data.index) & \\\n",
    "    set(valid_data.index) & set(test_data.index)\n",
    "\n",
    "train_loader = DataLoader(TensorDataset(torch.tensor(list(total_stu_list)).float()),\n",
    "                          batch_size=batch_size, shuffle=True)\n",
    "\n",
    "save_dir = dataSet.save_dir"
   ]
  },
  {
   "cell_type": "code",
   "execution_count": 68,
   "metadata": {},
   "outputs": [],
   "source": [
    "W_=np.loadtxt(save_dir + 'W_.txt')\n",
    "D_=np.loadtxt(save_dir + 'D_.txt')\n",
    "miss_=np.loadtxt(save_dir + 'miss_.txt')\n",
    "guess_=np.loadtxt(save_dir + 'guess_.txt')"
   ]
  },
  {
   "cell_type": "code",
   "execution_count": 69,
   "metadata": {},
   "outputs": [
    {
     "name": "stdout",
     "output_type": "stream",
     "text": [
      "-1.6616920965490862\n",
      "2.634953560853993\n",
      "-2.530702877789736\n",
      "2.6562495168445373\n"
     ]
    }
   ],
   "source": [
    "print(miss_.mean())\n",
    "print(miss_.std())\n",
    "print(guess_.mean())\n",
    "print(guess_.std())"
   ]
  },
  {
   "cell_type": "code",
   "execution_count": 70,
   "metadata": {},
   "outputs": [
    {
     "name": "stderr",
     "output_type": "stream",
     "text": [
      "Testing:: 100%|██████████| 132/132 [00:06<00:00, 19.77it/s]"
     ]
    },
    {
     "name": "stdout",
     "output_type": "stream",
     "text": [
      "\ttest: \tobj_acc:0.705100, obj_auc:0.787495, obj_rmse:0.431130, obj_mae:0.374062, \n",
      "\t\tsub_rmse:  0.200213, sub_mae:  0.082139\n"
     ]
    },
    {
     "name": "stderr",
     "output_type": "stream",
     "text": [
      "\n"
     ]
    }
   ],
   "source": [
    "result=test_model(W_,\n",
    "                  D_,\n",
    "                  guess_,\n",
    "                  miss_,\n",
    "                  train_loader,\n",
    "                  train_data,\n",
    "                  test_data,\n",
    "                  obj_prob_index,\n",
    "                  sub_prob_index, device='cpu')"
   ]
  }
 ],
 "metadata": {
  "interpreter": {
   "hash": "527a93331b4b1a8345148922acc34427fb7591433d63b66d32040b6fbbc6d593"
  },
  "kernelspec": {
   "display_name": "Python 3.9.7 64-bit ('pytorch': conda)",
   "name": "python3"
  },
  "language_info": {
   "codemirror_mode": {
    "name": "ipython",
    "version": 3
   },
   "file_extension": ".py",
   "mimetype": "text/x-python",
   "name": "python",
   "nbconvert_exporter": "python",
   "pygments_lexer": "ipython3",
   "version": "3.9.7"
  },
  "orig_nbformat": 4
 },
 "nbformat": 4,
 "nbformat_minor": 2
}
