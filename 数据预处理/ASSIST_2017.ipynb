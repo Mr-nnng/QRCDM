{
 "cells": [
  {
   "cell_type": "code",
   "execution_count": 1,
   "metadata": {},
   "outputs": [],
   "source": [
    "import os\n",
    "import pandas as pd\n",
    "import numpy as np\n",
    "import random\n",
    "import json"
   ]
  },
  {
   "cell_type": "code",
   "execution_count": 2,
   "metadata": {},
   "outputs": [],
   "source": [
    "read_dir='E:/文档/数据集/Data Sets used in Computing Education/ASSISTment Data Sets/ASSISTment Data/ASSISTments2017/anonymized_full_release_competition_dataset.csv'\n",
    "save_dir='../data/a2017/'\n",
    "test_ratio=0.2\n",
    "prob_count_limit=15 #每个学生做过的习题下限"
   ]
  },
  {
   "cell_type": "code",
   "execution_count": 3,
   "metadata": {},
   "outputs": [
    {
     "name": "stderr",
     "output_type": "stream",
     "text": [
      "D:\\anaconda\\envs\\pytorch\\lib\\site-packages\\IPython\\core\\interactiveshell.py:3444: DtypeWarning: Columns (76,77) have mixed types.Specify dtype option on import or set low_memory=False.\n",
      "  exec(code_obj, self.user_global_ns, self.user_ns)\n"
     ]
    }
   ],
   "source": [
    "data_set=pd.read_csv(read_dir)\n",
    "\n",
    "# 只取学生id、题目id、技能、对错，这几列\n",
    "# 同一个学生同一道题，只保留最后一条答题记录\n",
    "need_data=data_set.loc[:,['studentId','problemId','skill','correct']]\\\n",
    "    .drop_duplicates(subset=['studentId','problemId','skill'],keep='first').dropna(axis=0,how='any')\n",
    "#删除没有技能对应的答题记录\n",
    "need_data=need_data[need_data['skill']!='noskill']"
   ]
  },
  {
   "cell_type": "code",
   "execution_count": 4,
   "metadata": {},
   "outputs": [
    {
     "name": "stdout",
     "output_type": "stream",
     "text": [
      "有效的学生数： 1678\n"
     ]
    }
   ],
   "source": [
    "# 统计每个学生做了多少道题\n",
    "problem_counter=need_data.groupby(by='studentId').count()\n",
    "\n",
    "filtered_stu_boundary=prob_count_limit #学生做的题超过15道才算数\n",
    "\n",
    "filtered_stu_id=problem_counter[problem_counter['problemId']>filtered_stu_boundary].index.to_numpy()\n",
    "\n",
    "print('有效的学生数：',len(filtered_stu_id))"
   ]
  },
  {
   "cell_type": "code",
   "execution_count": 5,
   "metadata": {},
   "outputs": [],
   "source": [
    "def is_filtered_stu_id(x):\n",
    "    if x in filtered_stu_id:\n",
    "        return True\n",
    "    else:\n",
    "        return False\n",
    "\n",
    "filtered_id=need_data['studentId'].apply(is_filtered_stu_id)\n",
    "filtered_data=need_data[filtered_id]"
   ]
  },
  {
   "cell_type": "code",
   "execution_count": 6,
   "metadata": {},
   "outputs": [],
   "source": [
    "# problem=item\n",
    "# skill=knowledge\n",
    "# id=code\n",
    "\n",
    "problem_and_skill=filtered_data.loc[:,['problemId','skill']].dropna(axis=0,how='any').drop_duplicates()\n",
    "\n",
    "skill_name=list(problem_and_skill['skill'].drop_duplicates())\n",
    "skill_name_id=dict(zip(skill_name,range(1,len(skill_name)+1)))\n",
    "\n",
    "with open(save_dir+'dict_knowledge_code.json','w') as f:\n",
    "    json.dump(skill_name_id,f)\n",
    "\n",
    "filtered_stu_id_old_new=dict(zip(filtered_stu_id.astype('str'),range(1,len(filtered_stu_id)+1)))\n",
    "with open(save_dir+'dict_user_id.json','w') as f:\n",
    "    json.dump(filtered_stu_id_old_new,f)\n",
    " \n",
    "filtered_problem_id=np.array(list(set(need_data['problemId'])))\n",
    "filtered_problem_id_old_new=dict(zip(filtered_problem_id.astype('str'),range(1,len(filtered_problem_id)+1)))\n",
    "with open(save_dir+'dict_item_id.json','w') as f:\n",
    "    json.dump(filtered_problem_id_old_new,f)"
   ]
  },
  {
   "cell_type": "code",
   "execution_count": 7,
   "metadata": {},
   "outputs": [
    {
     "name": "stderr",
     "output_type": "stream",
     "text": [
      "C:\\Users\\qtl\\AppData\\Local\\Temp/ipykernel_5000/1646276698.py:1: SettingWithCopyWarning: \n",
      "A value is trying to be set on a copy of a slice from a DataFrame.\n",
      "Try using .loc[row_indexer,col_indexer] = value instead\n",
      "\n",
      "See the caveats in the documentation: https://pandas.pydata.org/pandas-docs/stable/user_guide/indexing.html#returning-a-view-versus-a-copy\n",
      "  filtered_data['studentId']=filtered_data['studentId'].astype('str').map(filtered_stu_id_old_new)\n",
      "C:\\Users\\qtl\\AppData\\Local\\Temp/ipykernel_5000/1646276698.py:2: SettingWithCopyWarning: \n",
      "A value is trying to be set on a copy of a slice from a DataFrame.\n",
      "Try using .loc[row_indexer,col_indexer] = value instead\n",
      "\n",
      "See the caveats in the documentation: https://pandas.pydata.org/pandas-docs/stable/user_guide/indexing.html#returning-a-view-versus-a-copy\n",
      "  filtered_data['problemId']=filtered_data['problemId'].astype('str').map(filtered_problem_id_old_new)\n",
      "C:\\Users\\qtl\\AppData\\Local\\Temp/ipykernel_5000/1646276698.py:3: SettingWithCopyWarning: \n",
      "A value is trying to be set on a copy of a slice from a DataFrame.\n",
      "Try using .loc[row_indexer,col_indexer] = value instead\n",
      "\n",
      "See the caveats in the documentation: https://pandas.pydata.org/pandas-docs/stable/user_guide/indexing.html#returning-a-view-versus-a-copy\n",
      "  filtered_data['skill']=filtered_data['skill'].map(skill_name_id)\n"
     ]
    }
   ],
   "source": [
    "filtered_data['studentId']=filtered_data['studentId'].astype('str').map(filtered_stu_id_old_new)\n",
    "filtered_data['problemId']=filtered_data['problemId'].astype('str').map(filtered_problem_id_old_new)\n",
    "filtered_data['skill']=filtered_data['skill'].map(skill_name_id)"
   ]
  },
  {
   "cell_type": "code",
   "execution_count": 8,
   "metadata": {},
   "outputs": [
    {
     "name": "stdout",
     "output_type": "stream",
     "text": [
      "studentId    1678\n",
      "problemId    2210\n",
      "skill         101\n",
      "correct         1\n",
      "dtype: int64\n"
     ]
    }
   ],
   "source": [
    "print(filtered_data.max())"
   ]
  },
  {
   "cell_type": "markdown",
   "metadata": {},
   "source": [
    "## step 2 生成item (pd.DataFrame(columns=[item_id，knowledge_code]))"
   ]
  },
  {
   "cell_type": "code",
   "execution_count": 9,
   "metadata": {},
   "outputs": [],
   "source": [
    "problem_and_skill=filtered_data.loc[:,['problemId','skill']].dropna(axis=0,how='any').drop_duplicates()\n",
    "reindex_data=problem_and_skill.set_index('problemId')\n",
    "\n",
    "item_data=pd.DataFrame(columns=['item_id','knowledge_code'])\n",
    "counter=0\n",
    "for problem in range(1,len(filtered_problem_id)+1):\n",
    "    item_data.loc[counter,'item_id']=str(problem)\n",
    "    item_data.loc[counter,'knowledge_code']=reindex_data.loc[[problem],'skill'].tolist()\n",
    "    counter+=1\n",
    "item_data.to_csv(save_dir+'item.csv',index=False)"
   ]
  },
  {
   "cell_type": "markdown",
   "metadata": {},
   "source": [
    "## step3 划分数据集为，train、valid、test"
   ]
  },
  {
   "cell_type": "code",
   "execution_count": 10,
   "metadata": {},
   "outputs": [],
   "source": [
    "# columns=['user_id','item_id','score']\n",
    "\n",
    "reindex_data=filtered_data.loc[:,['studentId','problemId','correct']].set_index('studentId')\n",
    "\n",
    "train_data=[[],[],[]]\n",
    "valid_data=[[],[],[]]\n",
    "test_data=[[],[],[]]\n",
    "\n",
    "for stu in range(1,len(filtered_stu_id)+1):\n",
    "    stu_data=reindex_data.loc[stu,:]\n",
    "    stu_problem=np.array(stu_data['problemId'])\n",
    "    stu_correct=np.array(stu_data['correct'])\n",
    "\n",
    "    length=len(stu_problem)\n",
    "    index_list=list(range(length))\n",
    "    # 划分测试集\n",
    "    test_index = random.sample(index_list, int(length*test_ratio))\n",
    "    temp_index = list(set(index_list)-set(test_index))\n",
    "    # 划分训练集和验证集\n",
    "    valid_index = random.sample(temp_index, int(len(test_index)*test_ratio))\n",
    "    train_index = list(set(temp_index)-set(valid_index))\n",
    "\n",
    "    train_data[0].extend([stu]*len(train_index))\n",
    "    train_data[1].extend(stu_problem[train_index])\n",
    "    train_data[2].extend(stu_correct[train_index])\n",
    "\n",
    "    valid_data[0].extend([stu]*len(valid_index))\n",
    "    valid_data[1].extend(stu_problem[valid_index])\n",
    "    valid_data[2].extend(stu_correct[valid_index])\n",
    "\n",
    "    test_data[0].extend([stu]*len(test_index))\n",
    "    test_data[1].extend(stu_problem[test_index])\n",
    "    test_data[2].extend(stu_correct[test_index])"
   ]
  },
  {
   "cell_type": "code",
   "execution_count": 11,
   "metadata": {},
   "outputs": [],
   "source": [
    "train=pd.DataFrame({'user_id':train_data[0],'item_id':train_data[1],'score':train_data[2]})\n",
    "valid=pd.DataFrame({'user_id':valid_data[0],'item_id':valid_data[1],'score':valid_data[2]})\n",
    "test=pd.DataFrame({'user_id':test_data[0],'item_id':test_data[1],'score':test_data[2]})"
   ]
  },
  {
   "cell_type": "code",
   "execution_count": 12,
   "metadata": {},
   "outputs": [],
   "source": [
    "train.to_csv(save_dir+'train.csv',index=False)\n",
    "valid.to_csv(save_dir+'valid.csv',index=False)\n",
    "test.to_csv(save_dir+'test.csv',index=False)"
   ]
  }
 ],
 "metadata": {
  "interpreter": {
   "hash": "527a93331b4b1a8345148922acc34427fb7591433d63b66d32040b6fbbc6d593"
  },
  "kernelspec": {
   "display_name": "Python 3.9.7 64-bit ('pytorch': conda)",
   "name": "python3"
  },
  "language_info": {
   "codemirror_mode": {
    "name": "ipython",
    "version": 3
   },
   "file_extension": ".py",
   "mimetype": "text/x-python",
   "name": "python",
   "nbconvert_exporter": "python",
   "pygments_lexer": "ipython3",
   "version": "3.9.7"
  },
  "orig_nbformat": 4
 },
 "nbformat": 4,
 "nbformat_minor": 2
}
