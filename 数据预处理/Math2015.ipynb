{
 "cells": [
  {
   "cell_type": "code",
   "execution_count": 30,
   "metadata": {},
   "outputs": [],
   "source": [
    "import os\n",
    "import pandas as pd\n",
    "import numpy as np\n",
    "import random\n",
    "import json"
   ]
  },
  {
   "cell_type": "code",
   "execution_count": 31,
   "metadata": {},
   "outputs": [],
   "source": [
    "data_set_list=('FrcSub','Math1', 'Math2')\n",
    "data_set_name=data_set_list[2]\n",
    "\n",
    "base_dir='../data/'\n",
    "if data_set_name == 'FrcSub':\n",
    "    read_dir=os.path.join(base_dir,'Math2015/FrcSub/')\n",
    "    save_dir=os.path.join(base_dir,'frcSub/')\n",
    "elif data_set_name == 'Math1':\n",
    "    read_dir=os.path.join(base_dir,'Math2015/Math1/')\n",
    "    save_dir=os.path.join(base_dir,'math1/')\n",
    "elif data_set_name == 'Math2':\n",
    "    read_dir=os.path.join(base_dir,'Math2015/Math2/')\n",
    "    save_dir=os.path.join(base_dir,'math2/')\n",
    "    \n",
    "X = np.loadtxt(os.path.join(read_dir, 'data.txt'))\n",
    "Q = np.loadtxt(os.path.join(read_dir, 'q.txt'))\n"
   ]
  },
  {
   "cell_type": "code",
   "execution_count": 32,
   "metadata": {},
   "outputs": [],
   "source": [
    "def split_train_test(X,test_ratio=0.2):\n",
    "    stu_num=X.shape[0]\n",
    "    prob_num=X.shape[1]\n",
    "    train_data=[[],[],[]]\n",
    "    test_data=[[],[],[]]\n",
    "    stu_problem=np.array(range(1,prob_num+1))\n",
    "    for stu in range(1,stu_num+1):\n",
    "        stu_correct=X[stu-1,:]    \n",
    "        test_index=random.sample(list(range(prob_num)),int(np.ceil(prob_num*test_ratio)))\n",
    "        train_index=list(set(range(prob_num))-set(test_index))\n",
    "\n",
    "        train_data[0].extend([stu]*len(train_index))\n",
    "        train_data[1].extend(stu_problem[train_index])\n",
    "        train_data[2].extend(stu_correct[train_index])\n",
    "\n",
    "        test_data[0].extend([stu]*len(test_index))\n",
    "        test_data[1].extend(stu_problem[test_index])\n",
    "        test_data[2].extend(stu_correct[test_index])\n",
    "    \n",
    "    train=pd.DataFrame({'user_id':np.array(train_data[0],dtype='int'),\n",
    "                        'item_id':np.array(train_data[1],dtype='int'),\n",
    "                        'score':train_data[2]})\n",
    "    test=pd.DataFrame({'user_id':np.array(test_data[0],dtype='int'),\n",
    "                       'item_id':np.array(test_data[1],dtype='int'),\n",
    "                       'score':test_data[2]})\n",
    "    return train,test"
   ]
  },
  {
   "cell_type": "code",
   "execution_count": 33,
   "metadata": {},
   "outputs": [],
   "source": [
    "def format_Q_matrix(Q):\n",
    "    problem_list=np.array(range(1,Q.shape[0]+1))\n",
    "    item_data=pd.DataFrame(columns=['item_id','knowledge_code'])\n",
    "    counter=0\n",
    "    for problem in range(1,len(problem_list)+1):\n",
    "        item_data.loc[counter,'item_id']=str(problem)\n",
    "        item_data.loc[counter,'knowledge_code']=list(np.argwhere(Q[problem-1,:]==1).reshape(-1)+1)\n",
    "        counter+=1\n",
    "    return item_data"
   ]
  },
  {
   "cell_type": "code",
   "execution_count": 34,
   "metadata": {},
   "outputs": [],
   "source": [
    "def read_probdesc(filepath):\n",
    "    prob_type = np.loadtxt(filepath, dtype=int, delimiter='\\t',\n",
    "                           converters={0: lambda x: int(x) - 1, 1: lambda s: s == b'Obj'}, skiprows=1)\n",
    "    obj_prob_index, sub_prob_index = prob_type[prob_type[:, 1] == 1][:, 0], prob_type[prob_type[:, 1] == 0][:, 0]\n",
    "    return prob_type, obj_prob_index, sub_prob_index"
   ]
  },
  {
   "cell_type": "code",
   "execution_count": 35,
   "metadata": {},
   "outputs": [],
   "source": [
    "# type of problems\n",
    "problems, obj_prob_index, sub_prob_index = read_probdesc(read_dir+\"problemdesc.txt\")\n",
    "np.savetxt(save_dir+\"obj_prob_index.csv\", obj_prob_index, delimiter=',', fmt='%d')\n",
    "np.savetxt(save_dir+\"sub_prob_index.csv\", sub_prob_index, delimiter=',', fmt='%d')"
   ]
  },
  {
   "cell_type": "code",
   "execution_count": 36,
   "metadata": {},
   "outputs": [],
   "source": [
    "test_ratio=0.2\n",
    "\n",
    "train,test=split_train_test(X,test_ratio)\n",
    "\n",
    "train.to_csv(save_dir+'train.csv',index=False)\n",
    "test.to_csv(save_dir+'test.csv',index=False)"
   ]
  },
  {
   "cell_type": "code",
   "execution_count": 37,
   "metadata": {},
   "outputs": [],
   "source": [
    "#将习题保存为 json 格式\n",
    "\n",
    "train_dict=train.loc[:,['user_id','item_id']]-1\n",
    "train_dict.loc[:,'score']=train.loc[:,'score']\n",
    "train_dict=list(train_dict.T.to_dict('dict').values())\n",
    "train_dict=[{'user_id':int(x['user_id']),'item_id':int(x['item_id']),'score':x['score']} for x in train_dict]\n",
    "\n",
    "test_dict=test.loc[:,['user_id','item_id']]-1\n",
    "test_dict.loc[:,'score']=test.loc[:,'score']\n",
    "test_dict=list(test_dict.T.to_dict('dict').values())\n",
    "test_dict=[{'user_id':int(x['user_id']),'item_id':int(x['item_id']),'score':x['score']} for x in test_dict]\n",
    "\n",
    "with open(save_dir+'train.json', 'w', encoding='utf8') as file:\n",
    "    json.dump(train_dict, file, indent=4, ensure_ascii=False)\n",
    "with open(save_dir+'test.json', 'w', encoding='utf8') as file:\n",
    "    json.dump(test_dict, file, indent=4, ensure_ascii=False)"
   ]
  },
  {
   "cell_type": "code",
   "execution_count": 38,
   "metadata": {},
   "outputs": [],
   "source": [
    "item=format_Q_matrix(Q)\n",
    "\n",
    "item.to_csv(save_dir+'item.csv',index=False)"
   ]
  },
  {
   "cell_type": "code",
   "execution_count": 39,
   "metadata": {},
   "outputs": [],
   "source": [
    "np.savetxt(save_dir+'q_m.csv', Q,  delimiter=',', fmt='%d')"
   ]
  }
 ],
 "metadata": {
  "interpreter": {
   "hash": "527a93331b4b1a8345148922acc34427fb7591433d63b66d32040b6fbbc6d593"
  },
  "kernelspec": {
   "display_name": "Python 3.9.7 64-bit ('pytorch': conda)",
   "name": "python3"
  },
  "language_info": {
   "codemirror_mode": {
    "name": "ipython",
    "version": 3
   },
   "file_extension": ".py",
   "mimetype": "text/x-python",
   "name": "python",
   "nbconvert_exporter": "python",
   "pygments_lexer": "ipython3",
   "version": "3.9.7"
  },
  "orig_nbformat": 4
 },
 "nbformat": 4,
 "nbformat_minor": 2
}
