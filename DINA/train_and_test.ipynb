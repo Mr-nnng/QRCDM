{
 "cells": [
  {
   "cell_type": "markdown",
   "metadata": {
    "collapsed": true,
    "pycharm": {
     "name": "#%% md\n"
    }
   },
   "source": [
    "# Deterministic Inputs, Noisy “And” gate model (DINA)\n",
    "\n",
    "This notebook will show you how to train and use the DINA.\n",
    "First, we will show how to get the data (here we use Math1 from math2015 as the dataset).\n",
    "Then we will show how to train a DINA and perform the parameters persistence.\n",
    "At last, we will show how to load the parameters from the file and evaluate on the test dataset.\n",
    "\n",
    "The script version could be found in [DINA.py](DINA.ipynb)"
   ]
  },
  {
   "cell_type": "markdown",
   "metadata": {},
   "source": [
    "## Data Preparation\n",
    "\n",
    "Before we process the data, we need to first acquire the dataset which is shown in [prepare_dataset.ipynb](prepare_dataset.ipynb)"
   ]
  },
  {
   "cell_type": "code",
   "execution_count": 7,
   "metadata": {},
   "outputs": [],
   "source": [
    "# Load the data from files\n",
    "# all index from 0\n",
    "import numpy as np\n",
    "import json\n",
    "\n",
    "data_set_list=('FrcSub','Math1', 'Math2')\n",
    "data_set_name=data_set_list[2]\n",
    "if data_set_name == 'FrcSub':\n",
    "    read_dir='../data/frcSub/'\n",
    "    sub_prob_index=[]\n",
    "elif data_set_name == 'Math1':\n",
    "    read_dir='../data/math1/'\n",
    "    sub_prob_index=np.loadtxt(read_dir+'sub_prob_index.csv')\n",
    "elif data_set_name == 'Math2':\n",
    "    read_dir='../data/math2/'\n",
    "    sub_prob_index=np.loadtxt(read_dir+'sub_prob_index.csv')\n",
    "\n",
    "q_m = np.loadtxt(read_dir+'q_m.csv',  delimiter=',')\n",
    "prob_num, know_num = q_m.shape[0], q_m.shape[1]\n",
    "\n",
    "# training data\n",
    "with open(read_dir+'train.json', encoding='utf-8') as file:\n",
    "    train_set = json.load(file)\n",
    "stu_num = int(max([x['user_id'] for x in train_set]))+1\n",
    "R = -1 * np.ones(shape=(stu_num, prob_num))\n",
    "for log in train_set:\n",
    "    R[int(log['user_id'])-1, int(log['item_id'])-1] = log['score']\n",
    "\n",
    "# testing data\n",
    "with open(read_dir+'test.json', encoding='utf-8') as file:\n",
    "    test_set = json.load(file)"
   ]
  },
  {
   "cell_type": "code",
   "execution_count": 8,
   "metadata": {},
   "outputs": [
    {
     "name": "stdout",
     "output_type": "stream",
     "text": [
      "{'user_id': 0, 'item_id': 0, 'score': 1.0} {'user_id': 0, 'item_id': 15, 'score': 0.0}\n"
     ]
    }
   ],
   "source": [
    "print(train_set[0], test_set[0])"
   ]
  },
  {
   "cell_type": "code",
   "execution_count": 9,
   "metadata": {
    "pycharm": {
     "name": "#%%\n"
    }
   },
   "outputs": [
    {
     "data": {
      "text/plain": [
       "(62576, 15644)"
      ]
     },
     "execution_count": 9,
     "metadata": {},
     "output_type": "execute_result"
    }
   ],
   "source": [
    "len(train_set), len(test_set)"
   ]
  },
  {
   "cell_type": "markdown",
   "metadata": {
    "pycharm": {
     "name": "#%% md\n"
    }
   },
   "source": [
    "## Training and Persistence"
   ]
  },
  {
   "cell_type": "code",
   "execution_count": 10,
   "metadata": {
    "pycharm": {
     "name": "#%%\n"
    }
   },
   "outputs": [],
   "source": [
    "import logging\n",
    "logging.getLogger().setLevel(logging.INFO)"
   ]
  },
  {
   "cell_type": "code",
   "execution_count": 11,
   "metadata": {
    "pycharm": {
     "name": "#%%\n"
    }
   },
   "outputs": [
    {
     "name": "stderr",
     "output_type": "stream",
     "text": [
      "training: 100%|██████████| 3/3 [05:00<00:00, 100.24s/it]\n",
      "INFO:root:save parameters to dina.params\n"
     ]
    }
   ],
   "source": [
    "from DINA import DINA\n",
    "\n",
    "cdm = DINA(R, q_m, stu_num, prob_num, know_num, skip_value=-1)\n",
    "\n",
    "cdm.train(epoch=3, epsilon=1e-3)\n",
    "cdm.save(\"dina.params\")"
   ]
  },
  {
   "cell_type": "markdown",
   "metadata": {
    "pycharm": {
     "name": "#%% md\n"
    }
   },
   "source": [
    "## Loading and Testing"
   ]
  },
  {
   "cell_type": "code",
   "execution_count": 12,
   "metadata": {
    "pycharm": {
     "name": "#%%\n"
    }
   },
   "outputs": [
    {
     "name": "stderr",
     "output_type": "stream",
     "text": [
      "INFO:root:load parameters from dina.params\n"
     ]
    },
    {
     "name": "stdout",
     "output_type": "stream",
     "text": [
      "data_set_name: Math2\n"
     ]
    },
    {
     "name": "stderr",
     "output_type": "stream",
     "text": [
      "evaluating: 100%|██████████| 15644/15644 [00:00<00:00, 412781.15it/s]"
     ]
    },
    {
     "name": "stdout",
     "output_type": "stream",
     "text": [
      "obj_acc: 0.569440,obj_auc: 0.585643,obj_rmse: 0.515686, obj_mae: 0.460801,\n",
      "sub_rmse: 0.472127, sub_mae: 0.412716\n"
     ]
    },
    {
     "name": "stderr",
     "output_type": "stream",
     "text": [
      "\n"
     ]
    }
   ],
   "source": [
    "cdm.load(\"dina.params\")\n",
    "print('data_set_name:',data_set_name)\n",
    "if len(sub_prob_index)>0:\n",
    "    (obj_acc,obj_auc,obj_rmse,obj_mae),(sub_rmse,sub_mae)=cdm.eval(test_set,sub_prob_index)\n",
    "    print(\"obj_acc: %.6f,obj_auc: %.6f,obj_rmse: %.6f, obj_mae: %.6f,\\nsub_rmse: %.6f, sub_mae: %.6f\"% (\n",
    "        obj_acc,obj_auc,obj_rmse,obj_mae,sub_rmse,sub_mae))\n",
    "else:\n",
    "    obj_acc,obj_auc,obj_rmse,obj_mae=cdm.eval(test_set,sub_prob_index)\n",
    "    print(\"obj_acc: %.6f,obj_auc: %.6f,obj_rmse: %.6f, obj_mae: %.6f\" % (\n",
    "        obj_acc,obj_auc,obj_rmse,obj_mae))"
   ]
  }
 ],
 "metadata": {
  "interpreter": {
   "hash": "527a93331b4b1a8345148922acc34427fb7591433d63b66d32040b6fbbc6d593"
  },
  "kernelspec": {
   "display_name": "Python 3.9.7 64-bit ('pytorch': conda)",
   "name": "python3"
  },
  "language_info": {
   "codemirror_mode": {
    "name": "ipython",
    "version": 3
   },
   "file_extension": ".py",
   "mimetype": "text/x-python",
   "name": "python",
   "nbconvert_exporter": "python",
   "pygments_lexer": "ipython3",
   "version": "3.9.7"
  }
 },
 "nbformat": 4,
 "nbformat_minor": 1
}
