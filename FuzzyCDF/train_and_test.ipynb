{
 "cells": [
  {
   "cell_type": "markdown",
   "metadata": {
    "collapsed": true,
    "pycharm": {
     "name": "#%% md\n"
    }
   },
   "source": [
    "# Fuzzy cognitive diagnosis framework (FuzzyCDF)\n",
    "\n",
    "This notebook will show you how to train and use the FuzzyCDF.\n",
    "First, we will show how to get the data (here we use Math1 from math2015 as the dataset).\n",
    "Then we will show how to train a FuzzyCDF and perform the parameters persistence.\n",
    "At last, we will show how to load the parameters from the file and evaluate on the test dataset.\n",
    "\n",
    "The script version could be found in [FuzzyCDF.py](FuzzyCDF.ipynb)"
   ]
  },
  {
   "cell_type": "markdown",
   "metadata": {},
   "source": [
    "## Data Preparation\n",
    "\n",
    "Before we process the data, we need to first acquire the dataset which is shown in [prepare_dataset.ipynb](prepare_dataset.ipynb)"
   ]
  },
  {
   "cell_type": "code",
   "execution_count": 8,
   "metadata": {},
   "outputs": [],
   "source": [
    "# Load the data from files\n",
    "import numpy as np\n",
    "import json\n",
    "\n",
    "data_set_list=('FrcSub','Math1', 'Math2')\n",
    "data_set_name=data_set_list[2]\n",
    "if data_set_name == 'FrcSub':\n",
    "    read_dir='../data/frcSub/'\n",
    "elif data_set_name == 'Math1':\n",
    "    read_dir='../data/math1/'\n",
    "elif data_set_name == 'Math2':\n",
    "    read_dir='../data/math2/'\n",
    "\n",
    "# type of problems\n",
    "obj_prob_index = np.loadtxt(read_dir+\"obj_prob_index.csv\", delimiter=',', dtype=int)\n",
    "sub_prob_index = np.loadtxt(read_dir+\"sub_prob_index.csv\", delimiter=',', dtype=int)\n",
    "# Q matrix\n",
    "q_m = np.loadtxt(read_dir+'q_m.csv', dtype=int, delimiter=',')\n",
    "prob_num, know_num = q_m.shape[0], q_m.shape[1]\n",
    "\n",
    "# training data\n",
    "with open(read_dir+'train.json', encoding='utf-8') as file:\n",
    "    train_set = json.load(file)\n",
    "stu_num = max([x['user_id'] for x in train_set]) + 1\n",
    "R = -1 * np.ones(shape=(stu_num, prob_num))\n",
    "for log in train_set:\n",
    "    R[log['user_id'], log['item_id']] = log['score']\n",
    "\n",
    "# testing data\n",
    "with open(read_dir+'test.json', encoding='utf-8') as file:\n",
    "    test_set = json.load(file)"
   ]
  },
  {
   "cell_type": "code",
   "execution_count": 9,
   "metadata": {},
   "outputs": [
    {
     "name": "stdout",
     "output_type": "stream",
     "text": [
      "{'user_id': 0, 'item_id': 0, 'score': 1.0} {'user_id': 0, 'item_id': 15, 'score': 0.0}\n"
     ]
    }
   ],
   "source": [
    "print(train_set[0], test_set[0])"
   ]
  },
  {
   "cell_type": "code",
   "execution_count": 10,
   "metadata": {
    "pycharm": {
     "name": "#%%\n"
    }
   },
   "outputs": [
    {
     "data": {
      "text/plain": [
       "(62576, 15644)"
      ]
     },
     "execution_count": 10,
     "metadata": {},
     "output_type": "execute_result"
    }
   ],
   "source": [
    "len(train_set), len(test_set)"
   ]
  },
  {
   "cell_type": "markdown",
   "metadata": {
    "pycharm": {
     "name": "#%% md\n"
    }
   },
   "source": [
    "## Training and Persistence"
   ]
  },
  {
   "cell_type": "code",
   "execution_count": 11,
   "metadata": {
    "pycharm": {
     "name": "#%%\n"
    }
   },
   "outputs": [],
   "source": [
    "import logging\n",
    "logging.getLogger().setLevel(logging.INFO)"
   ]
  },
  {
   "cell_type": "code",
   "execution_count": 12,
   "metadata": {
    "pycharm": {
     "name": "#%%\n"
    }
   },
   "outputs": [
    {
     "name": "stderr",
     "output_type": "stream",
     "text": [
      "INFO:root:save parameters to fuzzycdf.params\n"
     ]
    }
   ],
   "source": [
    "from FuzzyCDF import FuzzyCDF\n",
    "\n",
    "cdm = FuzzyCDF(R, q_m, stu_num, prob_num, know_num, obj_prob_index, sub_prob_index, skip_value=-1)\n",
    "\n",
    "cdm.train(epoch=10, burnin=5)\n",
    "cdm.save(\"fuzzycdf.params\")"
   ]
  },
  {
   "cell_type": "markdown",
   "metadata": {
    "pycharm": {
     "name": "#%% md\n"
    }
   },
   "source": [
    "## Loading and Testing"
   ]
  },
  {
   "cell_type": "code",
   "execution_count": 13,
   "metadata": {
    "pycharm": {
     "name": "#%%\n"
    }
   },
   "outputs": [
    {
     "name": "stderr",
     "output_type": "stream",
     "text": [
      "INFO:root:load parameters from fuzzycdf.params\n"
     ]
    },
    {
     "name": "stdout",
     "output_type": "stream",
     "text": [
      "data_set_name: Math2\n"
     ]
    },
    {
     "name": "stderr",
     "output_type": "stream",
     "text": [
      "evaluating: 100%|██████████| 15644/15644 [00:00<00:00, 500676.76it/s]"
     ]
    },
    {
     "name": "stdout",
     "output_type": "stream",
     "text": [
      "obj_acc: 0.621680,obj_auc: 0.671631,obj_rmse: 0.483727, obj_mae: 0.445671,\n",
      "sub_rmse: 0.365104, sub_mae: 0.312644\n"
     ]
    },
    {
     "name": "stderr",
     "output_type": "stream",
     "text": [
      "\n"
     ]
    }
   ],
   "source": [
    "cdm.load(\"fuzzycdf.params\")\n",
    "print('data_set_name:',data_set_name)\n",
    "if len(sub_prob_index)>0:\n",
    "    (obj_acc,obj_auc,obj_rmse,obj_mae),(sub_rmse,sub_mae)= cdm.eval(test_set)\n",
    "    print(\"obj_acc: %.6f,obj_auc: %.6f,obj_rmse: %.6f, obj_mae: %.6f,\\nsub_rmse: %.6f, sub_mae: %.6f\"% (\n",
    "        obj_acc,obj_auc,obj_rmse,obj_mae,sub_rmse,sub_mae))\n",
    "else:\n",
    "    obj_acc,obj_auc,obj_rmse,obj_mae=cdm.eval(test_set)\n",
    "    print(\"obj_acc: %.6f,obj_auc: %.6f,obj_rmse: %.6f, obj_mae: %.6f\" % (\n",
    "        obj_acc,obj_auc,obj_rmse,obj_mae))"
   ]
  },
  {
   "cell_type": "markdown",
   "metadata": {},
   "source": [
    "## Incremental Training"
   ]
  },
  {
   "cell_type": "code",
   "execution_count": 14,
   "metadata": {},
   "outputs": [],
   "source": [
    "new_data = [{'user_id': 0, 'item_id': 2, 'score': 0.0}, {'user_id': 1, 'item_id': 1, 'score': 1.0}]\n",
    "cdm.inc_train(new_data, epoch=10, burnin=5)"
   ]
  },
  {
   "cell_type": "code",
   "execution_count": null,
   "metadata": {},
   "outputs": [],
   "source": []
  }
 ],
 "metadata": {
  "interpreter": {
   "hash": "527a93331b4b1a8345148922acc34427fb7591433d63b66d32040b6fbbc6d593"
  },
  "kernelspec": {
   "display_name": "Python 3.9.7 64-bit ('pytorch': conda)",
   "name": "python3"
  },
  "language_info": {
   "codemirror_mode": {
    "name": "ipython",
    "version": 3
   },
   "file_extension": ".py",
   "mimetype": "text/x-python",
   "name": "python",
   "nbconvert_exporter": "python",
   "pygments_lexer": "ipython3",
   "version": "3.9.7"
  }
 },
 "nbformat": 4,
 "nbformat_minor": 1
}
