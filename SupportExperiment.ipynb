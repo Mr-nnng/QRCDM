{
 "cells": [
  {
   "cell_type": "code",
   "execution_count": 31,
   "metadata": {},
   "outputs": [],
   "source": [
    "import numpy as np\n",
    "import pandas as pd\n",
    "import torch"
   ]
  },
  {
   "cell_type": "code",
   "execution_count": 32,
   "metadata": {},
   "outputs": [
    {
     "name": "stdout",
     "output_type": "stream",
     "text": [
      "数据集： ASSIST_2017\n"
     ]
    }
   ],
   "source": [
    "dataSet_list = ('FrcSub', 'Math1', 'Math2', 'ASSIST_0910', 'ASSIST_2017')\n",
    "dataSetName=dataSet_list[4]\n",
    "basedir = 'D:/python_practice/认知诊断/有失误率和猜测率'\n",
    "if dataSetName == 'FrcSub':\n",
    "    read_dir = basedir+'/data/frcSub/'\n",
    "    save_dir = basedir+'/output/frcSub/'\n",
    "elif dataSetName == 'Math1':\n",
    "    read_dir = basedir+'/data/math1/'\n",
    "    save_dir = basedir+'/output/math1/'\n",
    "elif dataSetName == 'Math2':\n",
    "    read_dir = basedir+'/data/math2/'\n",
    "    save_dir = basedir+'/output/math2/'\n",
    "elif dataSetName == 'ASSIST_0910':\n",
    "    read_dir = basedir+'/data/a0910/'\n",
    "    save_dir = basedir+'/output/a0910/'\n",
    "elif dataSetName == 'ASSIST_2017':\n",
    "    read_dir = basedir+'/data/a2017/'\n",
    "    save_dir = basedir+'/output/a2017/'\n",
    "else:\n",
    "    print('Dataset does not exist!')\n",
    "    exit(0)\n",
    "print('数据集：', dataSetName)\n",
    "\n",
    "train_data=pd.read_csv(read_dir+'train.csv').set_index('user_id')\n",
    "item_data=pd.read_csv(read_dir+'item.csv')\n",
    "\n",
    "W_=np.loadtxt(save_dir+'W_.txt')\n",
    "D_=np.loadtxt(save_dir+'D_.txt')"
   ]
  },
  {
   "cell_type": "code",
   "execution_count": 33,
   "metadata": {},
   "outputs": [],
   "source": [
    "def get_Q(W_,item):\n",
    "    Q = np.zeros(W_.shape, dtype='bool')\n",
    "    for idx in item.index:\n",
    "        item_id = item.loc[idx, 'item_id']\n",
    "        know_list = item.loc[idx, 'knowledge_code'].replace(\n",
    "            '[', '').replace(']', '').split(',')\n",
    "        for know in know_list:\n",
    "            Q[item_id-1, int(know)-1] = True\n",
    "    return torch.tensor(Q, dtype=torch.float)"
   ]
  },
  {
   "cell_type": "code",
   "execution_count": 34,
   "metadata": {},
   "outputs": [],
   "source": [
    "def diagnosis(W_,score, prob_idx):  # 前向传播\n",
    "    W_ = torch.tensor(W_).float()\n",
    "    X_i = torch.tensor(score).float().reshape(1, -1)\n",
    "    W_i = torch.softmax(W_[prob_idx], dim=0)\n",
    "    A_i = X_i @ W_i\n",
    "    return A_i,W_i"
   ]
  },
  {
   "cell_type": "code",
   "execution_count": 35,
   "metadata": {},
   "outputs": [],
   "source": [
    "def format_data(record):\n",
    "    train = [[],[], []]  # 学生,习题，得分\n",
    "    stu_list = set(record.index)\n",
    "\n",
    "    for stu in stu_list:\n",
    "        stu_item = record.loc[[stu], 'item_id'].values - 1\n",
    "        stu_score = record.loc[[stu], 'score'].values\n",
    "\n",
    "        train[0].append([stu-1]*len(stu_item))\n",
    "        train[1].append(stu_item)\n",
    "        train[2].append(stu_score)\n",
    "\n",
    "    return train"
   ]
  },
  {
   "cell_type": "code",
   "execution_count": 36,
   "metadata": {},
   "outputs": [],
   "source": [
    "train=format_data(train_data)\n",
    "Q=get_Q(W_,item_data)"
   ]
  },
  {
   "cell_type": "code",
   "execution_count": 37,
   "metadata": {},
   "outputs": [],
   "source": [
    "# 找出数据集中答题错误率比较高的学习者\n",
    "error_ratio_list=np.zeros(len(train[2]))\n",
    "for i,score in enumerate(train[2]):\n",
    "    error_ratio_list[i]=1-sum(score)/len(score)\n",
    "highError_stu_list=np.argwhere(error_ratio_list>0).reshape(-1)"
   ]
  },
  {
   "cell_type": "code",
   "execution_count": 38,
   "metadata": {},
   "outputs": [
    {
     "data": {
      "text/plain": [
       "1678"
      ]
     },
     "execution_count": 38,
     "metadata": {},
     "output_type": "execute_result"
    }
   ],
   "source": [
    "len(highError_stu_list)"
   ]
  },
  {
   "cell_type": "code",
   "execution_count": 39,
   "metadata": {},
   "outputs": [],
   "source": [
    "correct_rate_list=[]\n",
    "# 遍历错误率较高的学习者\n",
    "for stu in highError_stu_list:\n",
    "    stu_A,stu_W=diagnosis(W_,train[2][stu],train[1][stu])\n",
    "    # 找到学习者的强知识点,大于0.6的就算强知识点\n",
    "    strong_c=np.argwhere(stu_A.reshape(-1)>0.6).reshape(-1)\n",
    "    if len(strong_c)>0:\n",
    "        # 找到对这些知识点贡献最多的习题\n",
    "        most_cont_prob=np.argmax(stu_W[:,strong_c],axis=0)\n",
    "        # 统计学习者作答这些习题的正确率\n",
    "        most_cont_score=torch.tensor(train[2][stu][most_cont_prob])\n",
    "        correct_rate=(most_cont_score.sum()/most_cont_score.numel()).item()\n",
    "        correct_rate_list.append(correct_rate)"
   ]
  },
  {
   "cell_type": "code",
   "execution_count": 40,
   "metadata": {},
   "outputs": [
    {
     "name": "stdout",
     "output_type": "stream",
     "text": [
      "数据集： ASSIST_2017\n"
     ]
    },
    {
     "data": {
      "text/plain": [
       "0.9632335551271304"
      ]
     },
     "execution_count": 40,
     "metadata": {},
     "output_type": "execute_result"
    }
   ],
   "source": [
    "print('数据集：', dataSetName)\n",
    "\n",
    "# 支持度\n",
    "np.mean(correct_rate_list)"
   ]
  }
 ],
 "metadata": {
  "interpreter": {
   "hash": "527a93331b4b1a8345148922acc34427fb7591433d63b66d32040b6fbbc6d593"
  },
  "kernelspec": {
   "display_name": "Python 3.9.7 64-bit ('pytorch': conda)",
   "name": "python3"
  },
  "language_info": {
   "codemirror_mode": {
    "name": "ipython",
    "version": 3
   },
   "file_extension": ".py",
   "mimetype": "text/x-python",
   "name": "python",
   "nbconvert_exporter": "python",
   "pygments_lexer": "ipython3",
   "version": "3.9.7"
  },
  "orig_nbformat": 4
 },
 "nbformat": 4,
 "nbformat_minor": 2
}
