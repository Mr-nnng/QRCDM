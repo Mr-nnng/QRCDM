{
 "cells": [
  {
   "cell_type": "code",
   "execution_count": 53,
   "metadata": {},
   "outputs": [],
   "source": [
    "import pandas as pd\n",
    "import numpy as np\n",
    "import matplotlib.pyplot as plt\n",
    "from matplotlib import rcParams"
   ]
  },
  {
   "cell_type": "code",
   "execution_count": 54,
   "metadata": {},
   "outputs": [
    {
     "data": {
      "text/html": [
       "<div>\n",
       "<style scoped>\n",
       "    .dataframe tbody tr th:only-of-type {\n",
       "        vertical-align: middle;\n",
       "    }\n",
       "\n",
       "    .dataframe tbody tr th {\n",
       "        vertical-align: top;\n",
       "    }\n",
       "\n",
       "    .dataframe thead th {\n",
       "        text-align: right;\n",
       "    }\n",
       "</style>\n",
       "<table border=\"1\" class=\"dataframe\">\n",
       "  <thead>\n",
       "    <tr style=\"text-align: right;\">\n",
       "      <th></th>\n",
       "      <th>FrcSub</th>\n",
       "      <th>Math1</th>\n",
       "      <th>Math2</th>\n",
       "      <th>ASSIST09</th>\n",
       "      <th>ASSIST17</th>\n",
       "    </tr>\n",
       "    <tr>\n",
       "      <th>界限</th>\n",
       "      <th></th>\n",
       "      <th></th>\n",
       "      <th></th>\n",
       "      <th></th>\n",
       "      <th></th>\n",
       "    </tr>\n",
       "  </thead>\n",
       "  <tbody>\n",
       "    <tr>\n",
       "      <th>0.6</th>\n",
       "      <td>0.9447</td>\n",
       "      <td>0.8486</td>\n",
       "      <td>0.9537</td>\n",
       "      <td>0.9529</td>\n",
       "      <td>0.8824</td>\n",
       "    </tr>\n",
       "    <tr>\n",
       "      <th>0.7</th>\n",
       "      <td>0.9744</td>\n",
       "      <td>0.8949</td>\n",
       "      <td>0.9860</td>\n",
       "      <td>0.9848</td>\n",
       "      <td>0.9520</td>\n",
       "    </tr>\n",
       "    <tr>\n",
       "      <th>0.8</th>\n",
       "      <td>0.9920</td>\n",
       "      <td>0.9333</td>\n",
       "      <td>0.9962</td>\n",
       "      <td>0.9980</td>\n",
       "      <td>0.9922</td>\n",
       "    </tr>\n",
       "    <tr>\n",
       "      <th>0.9</th>\n",
       "      <td>1.0000</td>\n",
       "      <td>0.9811</td>\n",
       "      <td>0.9992</td>\n",
       "      <td>1.0000</td>\n",
       "      <td>0.9998</td>\n",
       "    </tr>\n",
       "  </tbody>\n",
       "</table>\n",
       "</div>"
      ],
      "text/plain": [
       "     FrcSub   Math1   Math2  ASSIST09  ASSIST17\n",
       "界限                                             \n",
       "0.6  0.9447  0.8486  0.9537    0.9529    0.8824\n",
       "0.7  0.9744  0.8949  0.9860    0.9848    0.9520\n",
       "0.8  0.9920  0.9333  0.9962    0.9980    0.9922\n",
       "0.9  1.0000  0.9811  0.9992    1.0000    0.9998"
      ]
     },
     "execution_count": 54,
     "metadata": {},
     "output_type": "execute_result"
    }
   ],
   "source": [
    "data=pd.DataFrame([\n",
    "    [0.6,0.9447,0.8486,0.9537,0.9529,0.8824],\n",
    "    [0.7,0.9744,0.8949,0.9860,0.9848,0.9520],\n",
    "    [0.8,0.9920,0.9333,0.9962,0.9980,0.9922],\n",
    "    [0.9,1.0000,0.9811,0.9992,1.0000,0.9998]\n",
    "],columns=['界限','FrcSub','Math1','Math2','ASSIST09','ASSIST17']).set_index(['界限'])\n",
    "data"
   ]
  },
  {
   "cell_type": "code",
   "execution_count": 55,
   "metadata": {},
   "outputs": [],
   "source": [
    "frcsub=list(data['FrcSub'])\n",
    "math1=list(data['Math1'])\n",
    "math2=list(data['Math2'])\n",
    "a09=list(data['ASSIST09'])\n",
    "a17=list(data['ASSIST17'])\n",
    "\n",
    "labels=data.index"
   ]
  },
  {
   "cell_type": "code",
   "execution_count": 56,
   "metadata": {},
   "outputs": [
    {
     "data": {
      "image/png": "[encoded data removed]",
      "text/plain": [
       "<Figure size 720x504 with 1 Axes>"
      ]
     },
     "metadata": {
      "needs_background": "light"
     },
     "output_type": "display_data"
    }
   ],
   "source": [
    "# 坐标轴的刻度设置向内(in)或向外(out)\n",
    "plt.rcParams['xtick.direction'] = 'in'\n",
    "plt.rcParams['ytick.direction'] = 'in'\n",
    "\n",
    "labels=['FrcSub', 'Math1', 'Math2', 'ASSISTment09', 'ASSISTment17']\n",
    "yticklabels=['0.75','0.80','0.85','0.90','0.95','1.00']\n",
    "hatch_list=['--','||','//','\\\\\\\\']\n",
    "\n",
    "x=np.arange(len(labels))*2\n",
    "width = 0.4  # the width of the bars\n",
    "\n",
    "fig, ax = plt.subplots(figsize=(10,7))\n",
    "\n",
    "rects1 = ax.bar(x - 1.5*width, data.loc[0.6,:], 0.9*width, label='0.6',zorder=2,hatch=hatch_list[0],color='#5b9bd5')\n",
    "rects2 = ax.bar(x - 0.5*width, data.loc[0.7,:], 0.9*width, label='0.7',zorder=2,hatch=hatch_list[1],color='#ed7d31')\n",
    "rects3 = ax.bar(x + 0.5*width, data.loc[0.8,:], 0.9*width, label='0.8',zorder=2,hatch=hatch_list[2],color='#a8d08d')\n",
    "rects4 = ax.bar(x + 1.5*width, data.loc[0.9,:], 0.9*width, label='0.9',zorder=2,hatch=hatch_list[3],color='#ffc000')\n",
    "\n",
    "#去掉边框\n",
    "ax.spines['right'].set_visible(False)\n",
    "ax.spines['top'].set_visible(False)\n",
    "\n",
    "plt.grid(axis='y',linestyle = '-',zorder=0)\n",
    "\n",
    "ax.set_ylim((0.75,1.0))\n",
    "ax.set_yticks([0.75,0.80,0.85,0.90,0.95,1.00])\n",
    "ax.set_yticklabels(yticklabels,fontproperties = 'Times New Roman', size = 15)\n",
    "ax.set_ylabel('Support degree',fontdict={'family':'Times New Roman', 'size': 18})\n",
    "ax.set_xticks(x)\n",
    "ax.set_xticklabels(labels,fontproperties = 'Times New Roman', size = 15)\n",
    "ax.legend(['λ=0.6','λ=0.7','λ=0.8','λ=0.9'],\n",
    "          bbox_to_anchor=(0.56,0.35),framealpha=0.9,ncol=2,\n",
    "          labelspacing=0.3,handlelength=1.2,fancybox=False,\n",
    "          prop={'family':'Times New Roman', 'size': 18})\n",
    "\n",
    "plt.savefig('E:/文档/认知诊断/正文/fig5.jpg',dpi=1200,bbox_inches='tight')\n",
    "plt.show()"
   ]
  }
 ],
 "metadata": {
  "interpreter": {
   "hash": "527a93331b4b1a8345148922acc34427fb7591433d63b66d32040b6fbbc6d593"
  },
  "kernelspec": {
   "display_name": "Python 3.9.7 64-bit ('pytorch': conda)",
   "name": "python3"
  },
  "language_info": {
   "codemirror_mode": {
    "name": "ipython",
    "version": 3
   },
   "file_extension": ".py",
   "mimetype": "text/x-python",
   "name": "python",
   "nbconvert_exporter": "python",
   "pygments_lexer": "ipython3",
   "version": "3.9.7"
  },
  "orig_nbformat": 4
 },
 "nbformat": 4,
 "nbformat_minor": 2
}
