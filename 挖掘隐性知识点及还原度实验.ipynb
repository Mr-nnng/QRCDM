{
 "cells": [
  {
   "cell_type": "code",
   "execution_count": 18,
   "metadata": {},
   "outputs": [],
   "source": [
    "import numpy as np\n",
    "import pandas as pd\n",
    "import torch\n",
    "from Initial_data import DataSet"
   ]
  },
  {
   "cell_type": "code",
   "execution_count": 19,
   "metadata": {},
   "outputs": [
    {
     "name": "stdout",
     "output_type": "stream",
     "text": [
      "数据集： FrcSub\n",
      "总的还原度为： 0.6607\n",
      "数据集： Math1\n",
      "总的还原度为： 0.6866\n",
      "数据集： Math2\n",
      "总的还原度为： 0.7969\n",
      "数据集： ASSIST_0910\n",
      "总的还原度为： 0.7888\n",
      "数据集： ASSIST_2017\n",
      "总的还原度为： 0.7656\n"
     ]
    }
   ],
   "source": [
    "basedir = 'D:/python_practice/认知诊断/QRCDM/'\n",
    "\n",
    "dataSet_list = ('FrcSub', 'Math1', 'Math2', 'ASSIST_0910', 'ASSIST_2017')\n",
    "\n",
    "for data_set_name in dataSet_list:\n",
    "    dataSet = DataSet(basedir, data_set_name)\n",
    "    Q = np.array(dataSet.get_Q()).astype('int')\n",
    "\n",
    "    save_dir=dataSet.save_dir\n",
    "    W_=torch.tensor(np.loadtxt(save_dir+'W_.txt'))\n",
    "    D_=torch.tensor(np.loadtxt(save_dir+'D_.txt'))\n",
    "\n",
    "    W=torch.softmax(W_,dim=0)\n",
    "    W=np.array(W)\n",
    "\n",
    "    D=torch.softmax(D_,dim=1)\n",
    "    D=np.array(D)\n",
    "\n",
    "    W_boundary=1/Q.shape[0]\n",
    "    w=(W>=W_boundary).astype('int')\n",
    "\n",
    "    D_boundary=1/Q.shape[1]\n",
    "    d=(D>=D_boundary).astype('int')\n",
    "\n",
    "    # W_implicit_concepts=(1-Q)*w\n",
    "    # W_reduction_degree=(w*Q).sum()/Q.sum()\n",
    "\n",
    "    # D_implicit_concepts=(1-Q)*d\n",
    "    # D_reduction_degree=(d*Q).sum()/Q.sum()\n",
    "\n",
    "    w_d=w|d\n",
    "    implicit_concepts=(1-Q)*w_d\n",
    "    reduction_degree=(w_d*Q).sum()/Q.sum()\n",
    "\n",
    "    # print('W的还原度为：',W_reduction_degree.round(2))\n",
    "    # print('D的还原度为：',D_reduction_degree.round(2))\n",
    "    print('总的还原度为：',reduction_degree.round(4))"
   ]
  },
  {
   "cell_type": "code",
   "execution_count": null,
   "metadata": {},
   "outputs": [],
   "source": []
  }
 ],
 "metadata": {
  "interpreter": {
   "hash": "527a93331b4b1a8345148922acc34427fb7591433d63b66d32040b6fbbc6d593"
  },
  "kernelspec": {
   "display_name": "Python 3.9.7 64-bit ('pytorch': conda)",
   "name": "python3"
  },
  "language_info": {
   "codemirror_mode": {
    "name": "ipython",
    "version": 3
   },
   "file_extension": ".py",
   "mimetype": "text/x-python",
   "name": "python",
   "nbconvert_exporter": "python",
   "pygments_lexer": "ipython3",
   "version": "3.9.7"
  },
  "orig_nbformat": 4
 },
 "nbformat": 4,
 "nbformat_minor": 2
}
